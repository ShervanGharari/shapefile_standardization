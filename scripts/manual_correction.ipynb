{
 "cells": [
  {
   "cell_type": "code",
   "execution_count": 23,
   "id": "d8e07c3c",
   "metadata": {},
   "outputs": [
    {
     "name": "stdout",
     "output_type": "stream",
     "text": [
      "          COMID   unitarea                                           geometry\n",
      "19968  74072024  37.684175  MULTIPOLYGON (((-93.28375 29.85542, -93.28375 ...\n",
      "          COMID   unitarea                                           geometry\n",
      "30662  74071599  40.057538  POLYGON ((-93.19458 29.88958, -93.19375 29.889...\n",
      "          COMID  unitarea                                           geometry\n",
      "31553  74071561  6.343702  MULTIPOLYGON (((-93.28708 29.86625, -93.28625 ...\n"
     ]
    },
    {
     "name": "stderr",
     "output_type": "stream",
     "text": [
      "/var/folders/yh/b1qy7zb96k980mcb2ps9n6d9t1c6zr/T/ipykernel_7458/250627772.py:14: UserWarning: Geometry is in a geographic CRS. Results from 'buffer' are likely incorrect. Use 'GeoSeries.to_crs()' to re-project geometries to a projected CRS before this operation.\n",
      "\n",
      "  shp_sub_temp = shp_sub.buffer(-eplison, cap_style=2, join_style=2)\n",
      "/Users/shg096/opt/anaconda3/envs/myenv38/lib/python3.8/site-packages/geopandas/geodataframe.py:1322: SettingWithCopyWarning: \n",
      "A value is trying to be set on a copy of a slice from a DataFrame.\n",
      "Try using .loc[row_indexer,col_indexer] = value instead\n",
      "\n",
      "See the caveats in the documentation: https://pandas.pydata.org/pandas-docs/stable/user_guide/indexing.html#returning-a-view-versus-a-copy\n",
      "  super(GeoDataFrame, self).__setitem__(key, value)\n",
      "/var/folders/yh/b1qy7zb96k980mcb2ps9n6d9t1c6zr/T/ipykernel_7458/250627772.py:14: UserWarning: Geometry is in a geographic CRS. Results from 'buffer' are likely incorrect. Use 'GeoSeries.to_crs()' to re-project geometries to a projected CRS before this operation.\n",
      "\n",
      "  shp_sub_temp = shp_sub.buffer(-eplison, cap_style=2, join_style=2)\n",
      "/Users/shg096/opt/anaconda3/envs/myenv38/lib/python3.8/site-packages/geopandas/geodataframe.py:1322: SettingWithCopyWarning: \n",
      "A value is trying to be set on a copy of a slice from a DataFrame.\n",
      "Try using .loc[row_indexer,col_indexer] = value instead\n",
      "\n",
      "See the caveats in the documentation: https://pandas.pydata.org/pandas-docs/stable/user_guide/indexing.html#returning-a-view-versus-a-copy\n",
      "  super(GeoDataFrame, self).__setitem__(key, value)\n",
      "/var/folders/yh/b1qy7zb96k980mcb2ps9n6d9t1c6zr/T/ipykernel_7458/250627772.py:14: UserWarning: Geometry is in a geographic CRS. Results from 'buffer' are likely incorrect. Use 'GeoSeries.to_crs()' to re-project geometries to a projected CRS before this operation.\n",
      "\n",
      "  shp_sub_temp = shp_sub.buffer(-eplison, cap_style=2, join_style=2)\n",
      "/Users/shg096/opt/anaconda3/envs/myenv38/lib/python3.8/site-packages/geopandas/geodataframe.py:1322: SettingWithCopyWarning: \n",
      "A value is trying to be set on a copy of a slice from a DataFrame.\n",
      "Try using .loc[row_indexer,col_indexer] = value instead\n",
      "\n",
      "See the caveats in the documentation: https://pandas.pydata.org/pandas-docs/stable/user_guide/indexing.html#returning-a-view-versus-a-copy\n",
      "  super(GeoDataFrame, self).__setitem__(key, value)\n"
     ]
    },
    {
     "name": "stdout",
     "output_type": "stream",
     "text": [
      "          COMID   unitarea                                           geometry\n",
      "38157  74071283  12.188948  MULTIPOLYGON (((-93.33708 29.89792, -93.33625 ...\n"
     ]
    },
    {
     "name": "stderr",
     "output_type": "stream",
     "text": [
      "/var/folders/yh/b1qy7zb96k980mcb2ps9n6d9t1c6zr/T/ipykernel_7458/250627772.py:14: UserWarning: Geometry is in a geographic CRS. Results from 'buffer' are likely incorrect. Use 'GeoSeries.to_crs()' to re-project geometries to a projected CRS before this operation.\n",
      "\n",
      "  shp_sub_temp = shp_sub.buffer(-eplison, cap_style=2, join_style=2)\n",
      "/Users/shg096/opt/anaconda3/envs/myenv38/lib/python3.8/site-packages/geopandas/geodataframe.py:1322: SettingWithCopyWarning: \n",
      "A value is trying to be set on a copy of a slice from a DataFrame.\n",
      "Try using .loc[row_indexer,col_indexer] = value instead\n",
      "\n",
      "See the caveats in the documentation: https://pandas.pydata.org/pandas-docs/stable/user_guide/indexing.html#returning-a-view-versus-a-copy\n",
      "  super(GeoDataFrame, self).__setitem__(key, value)\n"
     ]
    }
   ],
   "source": [
    "import numpy as np\n",
    "import geopandas as gpd\n",
    "\n",
    "eplison = 0.0000001\n",
    "\n",
    "ID_list = [74072024, 74071599, 74071561, 74071283]\n",
    "\n",
    "shp = gpd.read_file('/Users/shg096/Desktop/MERIT_Hydro/cat_fixed/cat_pfaf_74_MERIT_Hydro_v07_Basins_v01_bugfix1_fixed_test.shp')\n",
    "\n",
    "for ID in ID_list:\n",
    "\n",
    "    shp_sub = shp [shp['COMID']==int(ID)]\n",
    "    print(shp_sub)\n",
    "    shp_sub_temp = shp_sub.buffer(-eplison, cap_style=2, join_style=2)\n",
    "#     shp_sub.geometry = shp_sub_temp.geometry\n",
    "    shp_temp = gpd.GeoDataFrame(shp_temp.geometry.iloc[0])\n",
    "    shp_temp.columns = ['geometry']\n",
    "    shp_temp.set_geometry(col='geometry', inplace=True)\n",
    "    shp_temp ['A'] = shp_temp.area\n",
    "    shp_temp = shp_temp.sort_values(by='A',ascending=False)\n",
    "    #shp_temp = shp_temp.buffer(eplison, cap_style=2, join_style=2)\n",
    "    shp_sub.to_file('/Users/shg096/Desktop/'+str(ID)+'.gpkg')\n",
    "#     ll\n",
    "#     print(shp_temp)\n",
    "\n",
    "#     for n in np.arange(len(shp_temp)):\n",
    "#         shp_temp_cut = shp_temp.loc[n]\n",
    "#         shp_temp_cut = shp_temp_cut.transpose\n",
    "#         shp_temp_cut = gpd.GeoDataFrame(shp_temp_cut)\n",
    "#         print(shp_temp_cut)\n",
    "#         print(type(shp_temp_cut))\n",
    "#         shp_temp_cut.set_geometry(col='geometry', inplace=True)\n",
    "#         shp_temp_cut.to_file('/Users/shg096/Desktop/'+str(ID)+'_'+str(n)+'.gpkg')\n"
   ]
  },
  {
   "cell_type": "code",
   "execution_count": 49,
   "id": "751484da",
   "metadata": {},
   "outputs": [
    {
     "name": "stderr",
     "output_type": "stream",
     "text": [
      "/var/folders/yh/b1qy7zb96k980mcb2ps9n6d9t1c6zr/T/ipykernel_7458/3166446548.py:14: UserWarning: Geometry is in a geographic CRS. Results from 'buffer' are likely incorrect. Use 'GeoSeries.to_crs()' to re-project geometries to a projected CRS before this operation.\n",
      "\n",
      "  shp_sub = shp_sub.buffer(-eplison, cap_style=2, join_style=2)\n",
      "/var/folders/yh/b1qy7zb96k980mcb2ps9n6d9t1c6zr/T/ipykernel_7458/3166446548.py:14: UserWarning: Geometry is in a geographic CRS. Results from 'buffer' are likely incorrect. Use 'GeoSeries.to_crs()' to re-project geometries to a projected CRS before this operation.\n",
      "\n",
      "  shp_sub = shp_sub.buffer(-eplison, cap_style=2, join_style=2)\n",
      "/var/folders/yh/b1qy7zb96k980mcb2ps9n6d9t1c6zr/T/ipykernel_7458/3166446548.py:14: UserWarning: Geometry is in a geographic CRS. Results from 'buffer' are likely incorrect. Use 'GeoSeries.to_crs()' to re-project geometries to a projected CRS before this operation.\n",
      "\n",
      "  shp_sub = shp_sub.buffer(-eplison, cap_style=2, join_style=2)\n"
     ]
    },
    {
     "name": "stdout",
     "output_type": "stream",
     "text": [
      "74072024\n",
      "                                            geometry     COMID\n",
      "0  POLYGON ((-93.28042 29.86042, -93.28042 29.862...  74072024\n",
      "1  POLYGON ((-93.24708 29.84875, -93.24708 29.849...  74072024\n",
      "2  POLYGON ((-93.26458 29.83958, -93.26375 29.839...  74072024\n",
      "3  POLYGON ((-93.26375 29.84125, -93.26375 29.842...  74072024\n",
      "4  POLYGON ((-93.28375 29.85542, -93.28375 29.857...  74072024\n",
      "5  POLYGON ((-93.26458 29.86625, -93.26458 29.867...  74072024\n",
      "6  POLYGON ((-93.26792 29.83875, -93.26708 29.838...  74072024\n",
      "7  POLYGON ((-93.28375 29.85542, -93.28375 29.854...  74072024\n",
      "74071599\n",
      "                                            geometry     COMID\n",
      "0  POLYGON ((-93.19458 29.88958, -93.19375 29.889...  74071599\n",
      "74071561\n",
      "                                             geometry     COMID\n",
      "0   POLYGON ((-93.24708 29.84875, -93.24542 29.848...  74071561\n",
      "1   POLYGON ((-93.24792 29.84958, -93.24708 29.849...  74071561\n",
      "2   POLYGON ((-93.24875 29.85042, -93.24792 29.850...  74071561\n",
      "3   POLYGON ((-93.24958 29.85125, -93.24875 29.851...  74071561\n",
      "4   POLYGON ((-93.25042 29.85208, -93.24958 29.852...  74071561\n",
      "5   POLYGON ((-93.25125 29.85292, -93.25042 29.852...  74071561\n",
      "6   POLYGON ((-93.25208 29.85375, -93.25125 29.853...  74071561\n",
      "7   POLYGON ((-93.25292 29.85458, -93.25208 29.854...  74071561\n",
      "8   POLYGON ((-93.25375 29.85542, -93.25292 29.855...  74071561\n",
      "9   POLYGON ((-93.28125 29.86125, -93.28125 29.862...  74071561\n",
      "10  POLYGON ((-93.25458 29.85625, -93.25375 29.856...  74071561\n",
      "11  POLYGON ((-93.25542 29.85708, -93.25458 29.857...  74071561\n",
      "12  POLYGON ((-93.25625 29.85792, -93.25542 29.857...  74071561\n",
      "13  POLYGON ((-93.25708 29.85875, -93.25625 29.858...  74071561\n",
      "14  POLYGON ((-93.25792 29.85958, -93.25708 29.859...  74071561\n",
      "15  POLYGON ((-93.25875 29.86042, -93.25792 29.860...  74071561\n",
      "16  POLYGON ((-93.25958 29.86125, -93.25875 29.861...  74071561\n",
      "17  POLYGON ((-93.26042 29.86208, -93.25958 29.862...  74071561\n",
      "18  POLYGON ((-93.26125 29.86292, -93.26042 29.862...  74071561\n",
      "19  POLYGON ((-93.26208 29.86375, -93.26125 29.863...  74071561\n",
      "20  POLYGON ((-93.26292 29.86458, -93.26208 29.864...  74071561\n",
      "21  POLYGON ((-93.26375 29.86542, -93.26292 29.865...  74071561\n",
      "22  POLYGON ((-93.26458 29.86625, -93.26375 29.866...  74071561\n",
      "23  POLYGON ((-93.26542 29.86708, -93.26458 29.867...  74071561\n",
      "24  POLYGON ((-93.26625 29.86792, -93.26542 29.867...  74071561\n",
      "25  POLYGON ((-93.26708 29.86875, -93.26625 29.868...  74071561\n",
      "26  POLYGON ((-93.26792 29.86958, -93.26708 29.869...  74071561\n",
      "27  POLYGON ((-93.28708 29.86625, -93.28625 29.866...  74071561\n",
      "28  POLYGON ((-93.28625 29.86375, -93.28625 29.862...  74071561\n",
      "29  POLYGON ((-93.28458 29.83625, -93.28375 29.836...  74071561\n",
      "30  POLYGON ((-93.28458 29.85625, -93.28458 29.836...  74071561\n",
      "31  POLYGON ((-93.28708 29.86625, -93.28792 29.866...  74071561\n",
      "74071283\n",
      "                                            geometry     COMID\n",
      "0  POLYGON ((-93.33708 29.89792, -93.33625 29.897...  74071283\n",
      "1  POLYGON ((-93.33708 29.89792, -93.33792 29.897...  74071283\n"
     ]
    },
    {
     "name": "stderr",
     "output_type": "stream",
     "text": [
      "/var/folders/yh/b1qy7zb96k980mcb2ps9n6d9t1c6zr/T/ipykernel_7458/3166446548.py:14: UserWarning: Geometry is in a geographic CRS. Results from 'buffer' are likely incorrect. Use 'GeoSeries.to_crs()' to re-project geometries to a projected CRS before this operation.\n",
      "\n",
      "  shp_sub = shp_sub.buffer(-eplison, cap_style=2, join_style=2)\n"
     ]
    }
   ],
   "source": [
    "import numpy as np\n",
    "import geopandas as gpd\n",
    "\n",
    "eplison = 0.0000001\n",
    "\n",
    "ID_list = [74072024, 74071599, 74071561, 74071283]\n",
    "\n",
    "#shp = gpd.read_file('/Users/shg096/Desktop/MERIT_Hydro/cat_fixed/cat_pfaf_74_MERIT_Hydro_v07_Basins_v01_bugfix1_fixed_test.shp')\n",
    "\n",
    "for ID in ID_list:\n",
    "    \n",
    "    shp_sub = shp [shp['COMID']==int(ID)]\n",
    "    \n",
    "    shp_sub = shp_sub.buffer(-eplison, cap_style=2, join_style=2)\n",
    "    \n",
    "    polys = shp_sub.geometry.iloc[0] # get the shape\n",
    "    \n",
    "    #print(polys)\n",
    "\n",
    "    # put the shape into a Polygon or MultiPolygon\n",
    "    if polys.type == 'Polygon':\n",
    "        #print(polys.type)\n",
    "        shp_temp = gpd.GeoSeries(polys) # convert multipolygon to a shapefile with polygons only\n",
    "        #shp_temp.columns = ['geometry'] # naming geometry column\n",
    "        shp_temp = gpd.GeoDataFrame(shp_temp) # convert multipolygon to a shapefile with polygons\n",
    "        shp_temp.columns = ['geometry'] # naming geometry column\n",
    "        #print(shp_temp)\n",
    "    if polys.type == 'MultiPolygon':\n",
    "        #print(polys.type)\n",
    "        shp_temp = gpd.GeoDataFrame(polys) # convert multipolygon to a shapefile with polygons only\n",
    "        shp_temp.columns = ['geometry'] # naming geometry column\n",
    "        \n",
    "    shp_temp.set_geometry(col='geometry', inplace=True)\n",
    "        \n",
    "    shp_temp['COMID'] = int(ID)\n",
    "    \n",
    "    print(ID)\n",
    "    print(shp_temp)\n",
    "\n",
    "    for n in np.arange(len(shp_temp)):\n",
    "        \n",
    "        \n",
    "        shp_temp_sub = gpd.GeoSeries(shp_temp['geometry'].loc[n]) # convert multipolygon to a shapefile with polygons only\n",
    "        shp_temp_sub = gpd.GeoDataFrame(shp_temp_sub) # convert multipolygon to a shapefile with polygons\n",
    "        shp_temp_sub.columns = ['geometry'] # naming geometry column\n",
    "        shp_temp_sub.set_geometry(col='geometry', inplace=True)\n",
    "        \n",
    "        shp_temp_sub['COMID'] = int(ID)\n",
    "        shp_temp_sub['n'] = int(n)\n",
    "        \n",
    "        \n",
    "        shp_temp_sub.to_file('/Users/shg096/Desktop/shp_exp/'+str(ID)+'_'+str(n)+'.shp')\n",
    "        \n"
   ]
  },
  {
   "cell_type": "code",
   "execution_count": 107,
   "id": "82f93618",
   "metadata": {},
   "outputs": [
    {
     "name": "stderr",
     "output_type": "stream",
     "text": [
      "/var/folders/yh/b1qy7zb96k980mcb2ps9n6d9t1c6zr/T/ipykernel_7458/460173355.py:12: UserWarning: Geometry is in a geographic CRS. Results from 'buffer' are likely incorrect. Use 'GeoSeries.to_crs()' to re-project geometries to a projected CRS before this operation.\n",
      "\n",
      "  shp = shp.buffer(2*eplison, cap_style=2, join_style=2)\n",
      "/var/folders/yh/b1qy7zb96k980mcb2ps9n6d9t1c6zr/T/ipykernel_7458/460173355.py:13: UserWarning: Geometry is in a geographic CRS. Results from 'buffer' are likely incorrect. Use 'GeoSeries.to_crs()' to re-project geometries to a projected CRS before this operation.\n",
      "\n",
      "  shp = shp.buffer(-eplison, cap_style=2, join_style=2)\n",
      "/var/folders/yh/b1qy7zb96k980mcb2ps9n6d9t1c6zr/T/ipykernel_7458/460173355.py:20: UserWarning: Geometry is in a geographic CRS. Results from 'buffer' are likely incorrect. Use 'GeoSeries.to_crs()' to re-project geometries to a projected CRS before this operation.\n",
      "\n",
      "  shp = shp.buffer(-eplison, cap_style=2, join_style=2)\n",
      "/var/folders/yh/b1qy7zb96k980mcb2ps9n6d9t1c6zr/T/ipykernel_7458/460173355.py:21: UserWarning: Geometry is in a geographic CRS. Results from 'buffer' are likely incorrect. Use 'GeoSeries.to_crs()' to re-project geometries to a projected CRS before this operation.\n",
      "\n",
      "  shp = shp.buffer(+eplison, cap_style=2, join_style=2)\n"
     ]
    },
    {
     "name": "stdout",
     "output_type": "stream",
     "text": [
      "                                            geometry   unitarea     COMID\n",
      "0  MULTIPOLYGON (((-93.33708 29.89792, -93.33625 ...  15.811629  74071283\n"
     ]
    }
   ],
   "source": [
    "import geopandas as gpd\n",
    "from shapely.geometry import Polygon\n",
    "\n",
    "\n",
    "shp = gpd.read_file('/Users/shg096/Desktop/74071283_manual_correction.shp')\n",
    "\n",
    "\n",
    "\n",
    "shp = shp.drop(columns=['n','layer','path'])\n",
    "eplison = 0.0000001\n",
    "shp = shp.dissolve()\n",
    "shp = shp.buffer(2*eplison, cap_style=2, join_style=2)\n",
    "shp = shp.buffer(-eplison, cap_style=2, join_style=2)\n",
    "\n",
    "A = extract_poly_coords(shp.geometry.loc[0]) # extract the exterior\n",
    "outer = A['exterior_coords'] # pass the exterior\n",
    "poly_new = Polygon (outer) # make a polygone out of the \n",
    "shp.geometry.loc[0] = poly_new # pass the geometry to the new shapefile\n",
    "\n",
    "shp = shp.buffer(-eplison, cap_style=2, join_style=2)\n",
    "shp = shp.buffer(+eplison, cap_style=2, join_style=2)\n",
    "\n",
    "shp = gpd.GeoDataFrame(shp)\n",
    "shp.columns = ['geometry']\n",
    "shp.set_geometry(col='geometry', inplace=True)\n",
    "shp_equal_area = shp.to_crs (\"EPSG:6933\")\n",
    "shp ['unitarea'] = shp_equal_area.area/10**6\n",
    "shp ['COMID'] = 74071283\n",
    "\n",
    "print(shp)\n",
    "\n",
    "shp.to_file('/Users/shg096/Desktop/74071283_manual_correction_dissolved.shp')\n",
    "\n"
   ]
  },
  {
   "cell_type": "code",
   "execution_count": 96,
   "id": "7c97d1d5",
   "metadata": {},
   "outputs": [
    {
     "name": "stdout",
     "output_type": "stream",
     "text": [
      "                                            geometry  unitarea     COMID\n",
      "0  POLYGON ((-93.28125 29.86125, -93.28125 29.862...  5.369277  74071561\n"
     ]
    },
    {
     "name": "stderr",
     "output_type": "stream",
     "text": [
      "/var/folders/yh/b1qy7zb96k980mcb2ps9n6d9t1c6zr/T/ipykernel_7458/980130314.py:10: UserWarning: Geometry is in a geographic CRS. Results from 'buffer' are likely incorrect. Use 'GeoSeries.to_crs()' to re-project geometries to a projected CRS before this operation.\n",
      "\n",
      "  shp = shp.buffer(eplison, cap_style=2, join_style=2)\n"
     ]
    }
   ],
   "source": [
    "import geopandas as gpd\n",
    "\n",
    "\n",
    "shp = gpd.read_file('/Users/shg096/Desktop/74071561_manual_crrection.shp')\n",
    "\n",
    "shp.crs = \"EPSG:4326\"\n",
    "shp = shp.drop(columns=['n'])\n",
    "eplison = 0.0000001\n",
    "shp = shp.dissolve()\n",
    "shp = shp.buffer(eplison, cap_style=2, join_style=2)\n",
    "shp = gpd.GeoDataFrame(shp)\n",
    "shp.columns = ['geometry']\n",
    "shp.set_geometry(col='geometry', inplace=True)\n",
    "shp_equal_area = shp.to_crs (\"EPSG:6933\")\n",
    "shp ['unitarea'] = shp_equal_area.area/10**6\n",
    "shp ['COMID'] = 74071561\n",
    "\n",
    "print(shp)\n",
    "\n",
    "shp.to_file('/Users/shg096/Desktop/74071561_manual_correction_dissolved.shp')\n",
    "\n",
    "\n",
    "\n",
    "\n",
    "\n",
    "\n"
   ]
  },
  {
   "cell_type": "code",
   "execution_count": 97,
   "id": "8ca2c873",
   "metadata": {},
   "outputs": [
    {
     "name": "stdout",
     "output_type": "stream",
     "text": [
      "                                            geometry   unitarea     COMID\n",
      "0  POLYGON ((-93.19458 29.88958, -93.19375 29.889...  40.057492  74071599\n"
     ]
    },
    {
     "name": "stderr",
     "output_type": "stream",
     "text": [
      "/var/folders/yh/b1qy7zb96k980mcb2ps9n6d9t1c6zr/T/ipykernel_7458/2706622383.py:8: UserWarning: Geometry is in a geographic CRS. Results from 'buffer' are likely incorrect. Use 'GeoSeries.to_crs()' to re-project geometries to a projected CRS before this operation.\n",
      "\n",
      "  shp = shp.buffer(eplison, cap_style=2, join_style=2)\n"
     ]
    }
   ],
   "source": [
    "import geopandas as gpd\n",
    "\n",
    "shp = gpd.read_file('/Users/shg096/Desktop/74071599_manual_correction.shp')\n",
    "shp.crs = \"EPSG:4326\"\n",
    "shp = shp.drop(columns=['n'])\n",
    "eplison = 0.0000001\n",
    "shp = shp.dissolve()\n",
    "shp = shp.buffer(eplison, cap_style=2, join_style=2)\n",
    "shp = gpd.GeoDataFrame(shp)\n",
    "shp.columns = ['geometry']\n",
    "shp.set_geometry(col='geometry', inplace=True)\n",
    "shp_equal_area = shp.to_crs (\"EPSG:6933\")\n",
    "shp ['unitarea'] = shp_equal_area.area/10**6\n",
    "shp ['COMID'] = 74071599\n",
    "\n",
    "print(shp)\n",
    "\n",
    "shp.to_file('/Users/shg096/Desktop/74071599_manual_correction_dissolved.shp')\n",
    "\n",
    "\n",
    "\n",
    "\n"
   ]
  },
  {
   "cell_type": "code",
   "execution_count": 98,
   "id": "ee27ccf7",
   "metadata": {},
   "outputs": [
    {
     "name": "stdout",
     "output_type": "stream",
     "text": [
      "                                            geometry   unitarea     COMID\n",
      "0  POLYGON ((-93.27792 29.86375, -93.27625 29.863...  34.976409  74072024\n"
     ]
    },
    {
     "name": "stderr",
     "output_type": "stream",
     "text": [
      "/var/folders/yh/b1qy7zb96k980mcb2ps9n6d9t1c6zr/T/ipykernel_7458/3007097430.py:9: UserWarning: Geometry is in a geographic CRS. Results from 'buffer' are likely incorrect. Use 'GeoSeries.to_crs()' to re-project geometries to a projected CRS before this operation.\n",
      "\n",
      "  shp = shp.buffer(eplison, cap_style=2, join_style=2)\n"
     ]
    }
   ],
   "source": [
    "import geopandas as gpd\n",
    "\n",
    "shp = gpd.read_file('/Users/shg096/Desktop/74072024_manual_correction.shp')\n",
    "shp.crs = \"EPSG:4326\"\n",
    "#shp = shp.drop(columns=['n','layer','path'])\n",
    "shp = shp.drop(columns=['n'])\n",
    "eplison = 0.0000001\n",
    "shp = shp.dissolve()\n",
    "shp = shp.buffer(eplison, cap_style=2, join_style=2)\n",
    "shp = gpd.GeoDataFrame(shp)\n",
    "shp.columns = ['geometry']\n",
    "shp.set_geometry(col='geometry', inplace=True)\n",
    "shp_equal_area = shp.to_crs (\"EPSG:6933\")\n",
    "shp ['unitarea'] = shp_equal_area.area/10**6\n",
    "shp ['COMID'] = 74072024\n",
    "\n",
    "print(shp)\n",
    "\n",
    "shp.to_file('/Users/shg096/Desktop/74072024_manual_correction_dissolved.shp')\n",
    "\n",
    "\n",
    "\n",
    "\n"
   ]
  },
  {
   "cell_type": "code",
   "execution_count": 92,
   "id": "b44eb83b",
   "metadata": {},
   "outputs": [],
   "source": [
    "def extract_poly_coords(geom):\n",
    "    if geom.type == 'Polygon':\n",
    "        exterior_coords = geom.exterior.coords[:]\n",
    "        interior_coords = []\n",
    "        for interior in geom.interiors:\n",
    "            interior_coords += interior.coords[:]\n",
    "    elif geom.type == 'MultiPolygon':\n",
    "        exterior_coords = []\n",
    "        interior_coords = []\n",
    "        for part in geom:\n",
    "            epc = extract_poly_coords(part)  # Recursive call\n",
    "            exterior_coords += epc['exterior_coords']\n",
    "            interior_coords += epc['interior_coords']\n",
    "    else:\n",
    "        raise ValueError('Unhandled geometry type: ' + repr(geom.type))\n",
    "    return {'exterior_coords': exterior_coords,\n",
    "            'interior_coords': interior_coords}"
   ]
  },
  {
   "cell_type": "code",
   "execution_count": null,
   "id": "08ab01c8",
   "metadata": {},
   "outputs": [],
   "source": []
  }
 ],
 "metadata": {
  "kernelspec": {
   "display_name": "myenv38",
   "language": "python",
   "name": "myenv38"
  },
  "language_info": {
   "codemirror_mode": {
    "name": "ipython",
    "version": 3
   },
   "file_extension": ".py",
   "mimetype": "text/x-python",
   "name": "python",
   "nbconvert_exporter": "python",
   "pygments_lexer": "ipython3",
   "version": "3.8.10"
  }
 },
 "nbformat": 4,
 "nbformat_minor": 5
}
